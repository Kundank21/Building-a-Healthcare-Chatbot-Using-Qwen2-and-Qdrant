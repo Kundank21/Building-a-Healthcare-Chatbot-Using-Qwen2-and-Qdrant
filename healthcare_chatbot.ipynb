{
 "cells": [
  {
   "cell_type": "code",
   "execution_count": 80,
   "id": "70456af4",
   "metadata": {},
   "outputs": [],
   "source": [
    "#load the dataset\n",
    "\n",
    "import requests\n",
    "import pandas as pd\n",
    "\n",
    "# Define the URL and parameters\n",
    "url = \"https://datasets-server.huggingface.co/rows\"\n",
    "params = {\n",
    "    \"dataset\": \"Nicolybgs/healthcare_data\",\n",
    "    \"config\": \"default\",\n",
    "    \"split\": \"train\",\n",
    "    \"offset\": 0,\n",
    "    \"length\": 100\n",
    "}\n",
    "\n",
    "# Make the GET request\n",
    "response = requests.get(url, params=params)\n",
    "\n",
    "# Check if the request was successful\n",
    "if response.status_code == 200:\n",
    "    # Parse the JSON response\n",
    "    data = response.json()\n",
    "\n",
    "    # Convert the JSON data to a Pandas DataFrame\n",
    "    rows = data.get('rows', [])\n",
    "    df = pd.DataFrame([row['row'] for row in rows])\n"
   ]
  },
  {
   "cell_type": "code",
   "execution_count": 68,
   "id": "c722cd30",
   "metadata": {},
   "outputs": [
    {
     "name": "stdout",
     "output_type": "stream",
     "text": [
      "<class 'pandas.core.frame.DataFrame'>\n",
      "RangeIndex: 100 entries, 0 to 99\n",
      "Data columns (total 15 columns):\n",
      " #   Column                             Non-Null Count  Dtype  \n",
      "---  ------                             --------------  -----  \n",
      " 0   Available Extra Rooms in Hospital  100 non-null    int64  \n",
      " 1   Department                         100 non-null    object \n",
      " 2   Ward_Facility_Code                 100 non-null    object \n",
      " 3   doctor_name                        100 non-null    object \n",
      " 4   staff_available                    100 non-null    int64  \n",
      " 5   patientid                          100 non-null    int64  \n",
      " 6   Age                                100 non-null    object \n",
      " 7   gender                             100 non-null    object \n",
      " 8   Type of Admission                  100 non-null    object \n",
      " 9   Severity of Illness                100 non-null    object \n",
      " 10  health_conditions                  74 non-null     object \n",
      " 11  Visitors with Patient              100 non-null    int64  \n",
      " 12  Insurance                          100 non-null    object \n",
      " 13  Admission_Deposit                  100 non-null    float64\n",
      " 14  Stay (in days)                     100 non-null    int64  \n",
      "dtypes: float64(1), int64(5), object(9)\n",
      "memory usage: 11.8+ KB\n"
     ]
    }
   ],
   "source": [
    "df.info()"
   ]
  },
  {
   "cell_type": "code",
   "execution_count": 69,
   "id": "ab51f3ca",
   "metadata": {},
   "outputs": [],
   "source": [
    "import pandas as pd\n",
    "from langchain.docstore.document import Document\n",
    "\n",
    "\n",
    "# Define the function to format each row\n",
    "def format_row(row):\n",
    "    return (\n",
    "        f\"Available Extra Rooms in Hospital: {row['Available Extra Rooms in Hospital']}, \"\n",
    "        f\"Department: {row['Department']}, Ward_Facility_Code: {row['Ward_Facility_Code']}, \"\n",
    "        f\"Doctor Name: {row['doctor_name']}, Staff Available: {row['staff_available']}, \"\n",
    "        f\"Patient ID: {row['patientid']}, Age: {row['Age']}, Gender: {row['gender']}, \"\n",
    "        f\"Type of Admission: {row['Type of Admission']}, Severity of Illness: {row['Severity of Illness']}, \"\n",
    "        f\"Health Conditions: {row['health_conditions']}, Visitors with Patient: {row['Visitors with Patient']}, \"\n",
    "        f\"Insurance: {row['Insurance']}, Admission Deposit: {row['Admission_Deposit']}, \"\n",
    "        f\"Stay (in days): {row['Stay (in days)']}\\n\\n\"\n",
    "    ).lower()\n",
    "\n",
    "# Apply the function to each row and create a new column with the formatted text\n",
    "df['formatted_text'] = df.apply(format_row, axis=1)\n",
    "\n",
    "# Convert the formatted text into a list of Document objects\n",
    "documents = []\n",
    "for text in df['formatted_text']:\n",
    "    document = Document(page_content=text)\n",
    "    documents.append(document)\n",
    "\n"
   ]
  },
  {
   "cell_type": "code",
   "execution_count": 70,
   "id": "6639c879",
   "metadata": {},
   "outputs": [],
   "source": [
    "#load the embedding model\n",
    "from langchain_community.embeddings import HuggingFaceEmbeddings\n",
    "embeddings = HuggingFaceEmbeddings(model_name  = \"BAAI/bge-base-en-v1.5\")"
   ]
  },
  {
   "cell_type": "code",
   "execution_count": 71,
   "id": "8f0b279f",
   "metadata": {},
   "outputs": [],
   "source": [
    "# index all the documents into the vector database Qdrant.\n",
    "from langchain_community.vectorstores import Qdrant\n",
    "qdrant = Qdrant.from_documents(\n",
    "    documents,\n",
    "    embeddings,\n",
    "    location=\":memory:\",  \n",
    "    collection_name=\"reranker\",\n",
    ")"
   ]
  },
  {
   "cell_type": "code",
   "execution_count": 72,
   "id": "ec2e673d",
   "metadata": {},
   "outputs": [],
   "source": [
    "#loading the retriever\n",
    "retriever = qdrant.as_retriever(search_kwargs = {'k':70})"
   ]
  },
  {
   "cell_type": "code",
   "execution_count": 73,
   "id": "3d3f70ea",
   "metadata": {},
   "outputs": [],
   "source": [
    "#Implementing Re-Ranking and Compression Retriever\n",
    "from langchain.retrievers import ContextualCompressionRetriever\n",
    "from langchain.retrievers.document_compressors import CrossEncoderReranker\n",
    "from langchain_community.cross_encoders import HuggingFaceCrossEncoder\n",
    "\n",
    "model = HuggingFaceCrossEncoder(model_name=\"BAAI/bge-reranker-base\")\n",
    "compressor = CrossEncoderReranker(model=model, top_n=10)\n",
    "compression_retriever = ContextualCompressionRetriever(\n",
    "    base_compressor=compressor, base_retriever=retriever\n",
    ")"
   ]
  },
  {
   "cell_type": "code",
   "execution_count": 79,
   "id": "5fad1364",
   "metadata": {},
   "outputs": [],
   "source": [
    "#We now initialize our LLM\n",
    "\n",
    "from langchain_community.llms import Ollama\n",
    "\n",
    "llm = Ollama(model=\"Qwen2-7B\")"
   ]
  },
  {
   "cell_type": "code",
   "execution_count": 76,
   "id": "bc4d7c56",
   "metadata": {},
   "outputs": [],
   "source": [
    "# Step 6: Define the Function to Retrieve and Respond\n",
    "def retrieve_and_respond(question):\n",
    "    # Retrieve relevant documents using compression_retriever\n",
    "    compression_documents = compression_retriever.invoke(question)\n",
    "    \n",
    "    # Combine the most relevant documents\n",
    "    if compression_documents:\n",
    "        combined_relevant_info = \" \".join([doc.page_content for doc in compression_documents])\n",
    "        prompt = f\"Question: {question}\\n\\nRelevant Information: {combined_relevant_info}\"\n",
    "        response = llm.invoke(prompt)\n",
    "        return response.content  # Access the content attribute of the AIMessage object\n",
    "    else:\n",
    "        return \"No relevant information found.\"\n"
   ]
  },
  {
   "cell_type": "code",
   "execution_count": 77,
   "id": "9823b087",
   "metadata": {},
   "outputs": [
    {
     "name": "stdout",
     "output_type": "stream",
     "text": [
      "Running on local URL:  http://127.0.0.1:7877\n",
      "\n",
      "To create a public link, set `share=True` in `launch()`.\n"
     ]
    },
    {
     "data": {
      "text/html": [
       "<div><iframe src=\"http://127.0.0.1:7877/\" width=\"100%\" height=\"500\" allow=\"autoplay; camera; microphone; clipboard-read; clipboard-write;\" frameborder=\"0\" allowfullscreen></iframe></div>"
      ],
      "text/plain": [
       "<IPython.core.display.HTML object>"
      ]
     },
     "metadata": {},
     "output_type": "display_data"
    },
    {
     "data": {
      "text/plain": []
     },
     "execution_count": 77,
     "metadata": {},
     "output_type": "execute_result"
    }
   ],
   "source": [
    "# Step 7: Create Gradio Chatbot Interface\n",
    "import gradio as gr\n",
    "\n",
    "with gr.Blocks() as demo:\n",
    "    chatbot = gr.Chatbot()\n",
    "    msg = gr.Textbox(placeholder=\"Ask any healthcare-related questions...\")\n",
    "    clear = gr.Button(\"Clear Chat\")\n",
    "\n",
    "    def respond(message, chat_history):\n",
    "        response = retrieve_and_respond(message)\n",
    "        chat_history.append((message, response))\n",
    "        return \"\", chat_history\n",
    "\n",
    "    msg.submit(respond, [msg, chatbot], [msg, chatbot])\n",
    "    clear.click(lambda: None, None, chatbot)\n",
    "\n",
    "# Launch the Gradio interface in the Jupyter Notebook\n",
    "demo.launch()\n"
   ]
  }
 ],
 "metadata": {
  "kernelspec": {
   "display_name": "Python 3 (ipykernel)",
   "language": "python",
   "name": "python3"
  },
  "language_info": {
   "codemirror_mode": {
    "name": "ipython",
    "version": 3
   },
   "file_extension": ".py",
   "mimetype": "text/x-python",
   "name": "python",
   "nbconvert_exporter": "python",
   "pygments_lexer": "ipython3",
   "version": "3.11.7"
  }
 },
 "nbformat": 4,
 "nbformat_minor": 5
}
